{
 "cells": [
  {
   "cell_type": "markdown",
   "metadata": {},
   "source": [
    "Project Euler Problem 1, sum of natural numbers less than 1000 which are multiples of 3 or 5"
   ]
  },
  {
   "cell_type": "code",
   "execution_count": null,
   "metadata": {},
   "outputs": [],
   "source": [
    "print(sum([x for x in range(1,1000) if x%3==0 or x%5==0]))"
   ]
  },
  {
   "cell_type": "markdown",
   "metadata": {},
   "source": [
    "Project Euler Problem 151.  Printing shop runs 16 batches every week and each batch requires a sheet of A5 paper.  Monday foreman opens A1, cutting it in half to get 2 A2, cuts in half to get 2 A3 which is cut in half to get 2 A4 which is cut in half to get 2 A5.  Unused sheets are placed in envelope.  Each subsequent batch he takes one sheet of paper, if A5 he uses it, if larger he cuts in half.  find expected value of the number of times the foreman finds a single paper in the envelope. "
   ]
  },
  {
   "cell_type": "code",
   "execution_count": 75,
   "metadata": {},
   "outputs": [
    {
     "data": {
      "text/plain": [
       "0.18211624679639082"
      ]
     },
     "execution_count": 75,
     "metadata": {},
     "output_type": "execute_result"
    }
   ],
   "source": [
    "envelopes=dict()\n",
    "\n",
    "def cut_paper(sheet):\n",
    "    new_sheet={'A2':'A3','A3':'A4','A4':'A5'}\n",
    "    sheet_list=[]\n",
    "    while sheet!='A5':\n",
    "        sheet=new_sheet[sheet]\n",
    "        sheet_list.append(sheet)\n",
    "    return sheet_list\n",
    "    \n",
    "class envelope():\n",
    "    def __init__(self,sheets):\n",
    "        self.sheets=sheets\n",
    "        #account for if the visit itself is a one sheet vist to the envelope\n",
    "        if len(sheets)==1 and sheets[0]!='A5':\n",
    "            self.exp_value=1\n",
    "        else:\n",
    "            self.exp_value=0\n",
    "\n",
    "        self.children=[]\n",
    "        for i,sheet in enumerate(self.sheets):\n",
    "            if sheet!='A5':\n",
    "                new_sheets=cut_paper(sheet)\n",
    "            else:\n",
    "                new_sheets=[]   \n",
    "            new_list=sheets[:i]+sheets[i+1:]+new_sheets\n",
    "            if len(new_list)>0:\n",
    "                new_list_string=''.join(new_list)\n",
    "                if new_list_string  not in envelopes:\n",
    "                    envelopes[new_list_string]=envelope(new_list)\n",
    "                self.children.append(envelope(new_list))\n",
    "        for child in self.children:\n",
    "            self.exp_value=float(self.exp_value+child.exp_value)/float(len(self.children))\n",
    "        \n",
    "envelope(['A2']).exp_value-1"
   ]
  },
  {
   "cell_type": "markdown",
   "metadata": {},
   "source": [
    "Probelm 4 find largest pal"
   ]
  },
  {
   "cell_type": "code",
   "execution_count": 95,
   "metadata": {},
   "outputs": [],
   "source": [
    "def factors_3_dig(num):\n",
    "    if int(num/1000)+1<100:\n",
    "        startval=100\n",
    "    else:\n",
    "        startval=int(num/1000)+1\n",
    "    factors=[x for x in range(startval,int(pow(num,.5))+1) if num%x==0]\n",
    "    return factors\n",
    "\n",
    "def next_palindrome(num):\n",
    "    if num//1000%10!=0:\n",
    "        num=num-1100\n",
    "    elif num//10000%10!=0:\n",
    "        num=num-10010+9900\n",
    "    else:\n",
    "        num=num-100001+99990\n",
    "    return num"
   ]
  },
  {
   "cell_type": "code",
   "execution_count": 96,
   "metadata": {},
   "outputs": [
    {
     "name": "stdout",
     "output_type": "stream",
     "text": [
      "(906609, [913], 993)\n"
     ]
    }
   ],
   "source": [
    "factors=[]\n",
    "num1=998899\n",
    "while len(factors)==0:\n",
    "    num1=next_palindrome(num1)\n",
    "    factors=factors_3_dig(num1)\n",
    "print(num1,factors, num1/factors[0])"
   ]
  },
  {
   "cell_type": "code",
   "execution_count": 82,
   "metadata": {},
   "outputs": [
    {
     "data": {
      "text/plain": [
       "899998"
      ]
     },
     "execution_count": 82,
     "metadata": {},
     "output_type": "execute_result"
    }
   ],
   "source": []
  },
  {
   "cell_type": "code",
   "execution_count": null,
   "metadata": {
    "collapsed": true
   },
   "outputs": [],
   "source": []
  }
 ],
 "metadata": {
  "kernelspec": {
   "display_name": "Python 2",
   "language": "python",
   "name": "python2"
  },
  "language_info": {
   "codemirror_mode": {
    "name": "ipython",
    "version": 2
   },
   "file_extension": ".py",
   "mimetype": "text/x-python",
   "name": "python",
   "nbconvert_exporter": "python",
   "pygments_lexer": "ipython2",
   "version": "2.7.13"
  }
 },
 "nbformat": 4,
 "nbformat_minor": 2
}
